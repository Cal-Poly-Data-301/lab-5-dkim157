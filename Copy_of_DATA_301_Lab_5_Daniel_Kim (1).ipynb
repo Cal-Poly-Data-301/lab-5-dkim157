{
  "nbformat": 4,
  "nbformat_minor": 0,
  "metadata": {
    "kernelspec": {
      "display_name": "Python 3",
      "language": "python",
      "name": "python3"
    },
    "language_info": {
      "codemirror_mode": {
        "name": "ipython",
        "version": 3
      },
      "file_extension": ".py",
      "mimetype": "text/x-python",
      "name": "python",
      "nbconvert_exporter": "python",
      "pygments_lexer": "ipython3",
      "version": "3.6.8"
    },
    "colab": {
      "name": "Copy of DATA 301 Lab 5 - Daniel Kim",
      "provenance": [],
      "collapsed_sections": []
    }
  },
  "cells": [
    {
      "cell_type": "markdown",
      "metadata": {
        "id": "iG3X1KFIBLUK"
      },
      "source": [
        "# Authorship of the Federalist Papers\n",
        "\n",
        "The _Federalist Papers_ were a set of 85 essays published between 1787 and 1788 to promote the ratification of the United States Constitution. They were originally published under the pseudonym \"Publius\". Although the identity of the authors was a closely guarded secret at the time, most of the papers have since been conclusively attributed to one of Hamilton, Jay, or Madison. The known authorships can be found in `https://dlsun.github.io/pods/data/federalist/authorship.csv`.\n",
        "\n",
        "For 15 of the papers, however, the authorships remain disputed. (These papers can be identified from the `authorship.csv` file because the \"Author\" field is blank.) In this analysis, you will use the papers with known authorship to predict the authorships of the disputed papers. The text of each paper is available at `https://dlsun.github.io/pods/data/federalist/x.txt`, where `x` is the number of the paper (i.e., a number from 1 to 85). The name of the file indicates the number of the paper."
      ]
    },
    {
      "cell_type": "markdown",
      "metadata": {
        "id": "8YRe6SB3BLUN"
      },
      "source": [
        "## Question 1\n",
        "\n",
        "When analyzing an author's style, common words like \"the\" and \"on\" are actually more useful than rare words like \"hostilities\". That is because rare words typically signify context. Context is useful if you are trying to find documents about similar topics, but not so useful if you are trying to identify an author's style because different authors can write about the same topic. For example, both Dr. Seuss and Charles Dickens used rare words like \"chimney\" and \"stockings\" in _How the Grinch Stole Christmas_ and _A Christmas Carol_, respectively. But they used common words very differently: Dickens used the word \"upon\" over 100 times, while Dr. Seuss did not use \"upon\" even once.\n",
        "\n",
        "Read in the Federalist Papers. Convert each one into a vector of term frequencies. In order to restrict to common words, include only the top 50 words across the corpus. (Because we are restricting to the most common words already, there is no reason to reweight them using TF-IDF.)"
      ]
    },
    {
      "cell_type": "code",
      "source": [
        "import pandas as pd\n",
        "import numpy as np\n",
        "from collections import Counter\n",
        "import requests\n",
        "from sklearn.feature_extraction.text import CountVectorizer\n",
        "from sklearn.metrics.pairwise import cosine_similarity, cosine_distances\n",
        "from sklearn.feature_extraction.text import TfidfVectorizer\n",
        "from sklearn.neighbors import KNeighborsRegressor\n",
        "\n",
        "df_auth = pd.read_csv(\"https://dlsun.github.io/pods/data/federalist/authorship.csv\")"
      ],
      "metadata": {
        "id": "CwtDXtotEJwj"
      },
      "execution_count": 32,
      "outputs": []
    },
    {
      "cell_type": "code",
      "source": [
        "fed_dir = \"https://dlsun.github.io/pods/data/federalist/\"\n",
        "fed_files = [str(i) + \".txt\" for i in range(1, 86)]\n",
        "\n",
        "docs_fed = pd.Series()\n",
        "for file in fed_files:\n",
        "    response = requests.get(fed_dir + file, \"r\")\n",
        "    docs_fed[file] = response.text"
      ],
      "metadata": {
        "colab": {
          "base_uri": "https://localhost:8080/"
        },
        "id": "KYu_QvxzHTV2",
        "outputId": "5759e4cd-244d-49dd-aea0-0d4383e17315"
      },
      "execution_count": 33,
      "outputs": [
        {
          "output_type": "stream",
          "name": "stderr",
          "text": [
            "/usr/local/lib/python3.7/dist-packages/ipykernel_launcher.py:4: DeprecationWarning: The default dtype for empty Series will be 'object' instead of 'float64' in a future version. Specify a dtype explicitly to silence this warning.\n",
            "  after removing the cwd from sys.path.\n"
          ]
        }
      ]
    },
    {
      "cell_type": "code",
      "source": [
        "vec = CountVectorizer()\n",
        "vec.fit(docs_fed)\n",
        "tf_sparse = vec.transform(docs_fed)\n",
        "\n",
        "df_words = pd.DataFrame(\n",
        "    tf_sparse.todense(),\n",
        "    columns=vec.get_feature_names_out()\n",
        ")"
      ],
      "metadata": {
        "id": "6GQUdnjXIj0t"
      },
      "execution_count": 34,
      "outputs": []
    },
    {
      "cell_type": "markdown",
      "metadata": {
        "id": "bDLgJQtaHljA"
      },
      "source": [
        "## Question 2\n",
        "Make a visualization that summarizes the most common words used by Hamilton, Madison, and Jay."
      ]
    },
    {
      "cell_type": "code",
      "source": [
        "df_words = pd.merge(df_words, df_auth, left_index=True, right_index=True, how=\"outer\")"
      ],
      "metadata": {
        "id": "C-fThv3OJ0LG"
      },
      "execution_count": 35,
      "outputs": []
    },
    {
      "cell_type": "code",
      "source": [
        "grouped_words = df_words.groupby(\"Author\").sum()\n",
        "\n",
        "row = grouped_words.loc[\"Hamilton\"]\n",
        "sorted_index_array = np.argsort(row)\n",
        "sorted_array = row[sorted_index_array]\n",
        "\n",
        "n = 50\n",
        "words = sorted_array[-n : ]\n",
        "words.plot.bar(title=\"Hamilton\")"
      ],
      "metadata": {
        "colab": {
          "base_uri": "https://localhost:8080/",
          "height": 349
        },
        "id": "x_1ISRnwL27-",
        "outputId": "47ed988c-3f8a-4bfb-f256-6d6af01f75ed"
      },
      "execution_count": 36,
      "outputs": [
        {
          "output_type": "execute_result",
          "data": {
            "text/plain": [
              "<matplotlib.axes._subplots.AxesSubplot at 0x7f0c0d87d050>"
            ]
          },
          "metadata": {},
          "execution_count": 36
        },
        {
          "output_type": "display_data",
          "data": {
            "image/png": "[encoded data removed]",
            "text/plain": [
              "<Figure size 432x288 with 1 Axes>"
            ]
          },
          "metadata": {
            "needs_background": "light"
          }
        }
      ]
    },
    {
      "cell_type": "code",
      "source": [
        "row = grouped_words.loc[\"Madison\"]\n",
        "sorted_index_array = np.argsort(row)\n",
        "sorted_array = row[sorted_index_array]\n",
        "\n",
        "n = 50\n",
        "words = sorted_array[-n : ]\n",
        "words.plot.bar(title=\"Madison\")"
      ],
      "metadata": {
        "colab": {
          "base_uri": "https://localhost:8080/",
          "height": 349
        },
        "id": "GGz-nS-_wzRk",
        "outputId": "f726584f-f902-495e-ed67-6df53b2809a4"
      },
      "execution_count": 37,
      "outputs": [
        {
          "output_type": "execute_result",
          "data": {
            "text/plain": [
              "<matplotlib.axes._subplots.AxesSubplot at 0x7f0c0b3f0290>"
            ]
          },
          "metadata": {},
          "execution_count": 37
        },
        {
          "output_type": "display_data",
          "data": {
            "image/png": "[encoded data removed]",
            "text/plain": [
              "<Figure size 432x288 with 1 Axes>"
            ]
          },
          "metadata": {
            "needs_background": "light"
          }
        }
      ]
    },
    {
      "cell_type": "code",
      "source": [
        "row = grouped_words.loc[\"Jay\"]\n",
        "sorted_index_array = np.argsort(row)\n",
        "sorted_array = row[sorted_index_array]\n",
        "\n",
        "n = 50\n",
        "words = sorted_array[-n : ]\n",
        "words.plot.bar(title=\"Jay\")"
      ],
      "metadata": {
        "colab": {
          "base_uri": "https://localhost:8080/",
          "height": 349
        },
        "id": "mfws-iwxzCCO",
        "outputId": "895302b2-622c-4940-d5c6-b89c5a240dd0"
      },
      "execution_count": 38,
      "outputs": [
        {
          "output_type": "execute_result",
          "data": {
            "text/plain": [
              "<matplotlib.axes._subplots.AxesSubplot at 0x7f0c0b6ee590>"
            ]
          },
          "metadata": {},
          "execution_count": 38
        },
        {
          "output_type": "display_data",
          "data": {
            "image/png": "[encoded data removed]",
            "text/plain": [
              "<Figure size 432x288 with 1 Axes>"
            ]
          },
          "metadata": {
            "needs_background": "light"
          }
        }
      ]
    },
    {
      "cell_type": "markdown",
      "metadata": {
        "id": "fh0DzmKrBLUT"
      },
      "source": [
        "## Question 3\n",
        "\n",
        "For each of the documents with disputed authorships, find the 5 most similar documents with _known_ authorships, using cosine distance on the term frequencies. Use the authors of these 5 most similar documents to predict the author of each disputed document. (For example, if 3 of the 5 closest documents were written by Hamilton, 1 by Madison, and 1 by Jay, then we would predict that the disputed document was written by Hamilton.)"
      ]
    },
    {
      "cell_type": "code",
      "source": [
        "author_dummies = pd.get_dummies(df_auth[\"Author\"])\n",
        "docs = pd.DataFrame(docs_fed).reset_index()\n",
        "docs = docs.reset_index().drop([\"level_0\", \"index\"], axis=1)"
      ],
      "metadata": {
        "id": "Sp9bB0KZxQJA"
      },
      "execution_count": 39,
      "outputs": []
    },
    {
      "cell_type": "code",
      "source": [
        "df = pd.merge(docs, author_dummies, left_index=True, right_index=True, how=\"outer\")"
      ],
      "metadata": {
        "id": "Cp6nXDtRwgfS"
      },
      "execution_count": 40,
      "outputs": []
    },
    {
      "cell_type": "code",
      "source": [
        "#Unknown Essays:\n",
        "\n",
        "unknown = [17, 18, 19, 48, 49, 50, 51, 52, 53, 54, 55, 56, 57, 61, 62]"
      ],
      "metadata": {
        "id": "hS7U_clT1l9A"
      },
      "execution_count": 41,
      "outputs": []
    },
    {
      "cell_type": "code",
      "source": [
        "df_train = df.copy(deep=True)\n",
        "for i in unknown:\n",
        "  df_train = df_train.drop(i, axis=0)"
      ],
      "metadata": {
        "id": "MCY1q0G-3mtB"
      },
      "execution_count": 42,
      "outputs": []
    },
    {
      "cell_type": "code",
      "source": [
        "def predict_auth(body, author, trial_text):\n",
        "  vec = TfidfVectorizer(norm=None)\n",
        "  vec.fit(body)\n",
        "  tf_idf_sparse = vec.transform(body)\n",
        "  trial = vec.transform([trial_text])\n",
        "\n",
        "  model = KNeighborsRegressor(n_neighbors=5, metric=cosine_distances)\n",
        "  m = model.fit(X=tf_idf_sparse, y=author)\n",
        "  return m.predict(X=trial)\n",
        "\n",
        "predict_auth(df_train[0], df_train[\"Hamilton\"], df.loc[48][0]) "
      ],
      "metadata": {
        "id": "Z9SQGlIXibqx",
        "colab": {
          "base_uri": "https://localhost:8080/"
        },
        "outputId": "be49c86e-9d60-476f-cf8f-6af4f6d503ff"
      },
      "execution_count": 43,
      "outputs": [
        {
          "output_type": "execute_result",
          "data": {
            "text/plain": [
              "array([0.4])"
            ]
          },
          "metadata": {},
          "execution_count": 43
        }
      ]
    },
    {
      "cell_type": "markdown",
      "metadata": {
        "id": "8Ng3BgkXBLUw"
      },
      "source": [
        "## Submission Instructions\n",
        "\n",
        "- Copy this notebook to your own Drive, if you have not already.\n",
        "- Restart this notebook and run the cells from beginning to end. \n",
        "  - Go to Runtime > Restart and Run All.\n",
        "- Rename this notebook by clicking on \"DATA 301 Lab 5 - YOUR NAMES HERE\" at the very top of this page. Replace \"YOUR NAMES HERE\" with the first and last names of you (and your partners, for Phase 2).\n",
        "- Get the link to your notebook:\n",
        "  - Click on \"Share\" at the top-right. \n",
        "  - Change the settings to \"Anyone with the link can view\". \n",
        "  - Copy the sharing link into Canvas."
      ]
    }
  ]
}